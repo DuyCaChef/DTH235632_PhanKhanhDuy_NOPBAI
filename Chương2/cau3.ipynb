{
 "cells": [
  {
   "cell_type": "code",
   "execution_count": 2,
   "id": "1bee7257",
   "metadata": {},
   "outputs": [
    {
     "name": "stdout",
     "output_type": "stream",
     "text": [
      "Điểm trung bình là:  4.333333333333333\n",
      "Điểm trung bình làm tròn là:  4.33\n"
     ]
    }
   ],
   "source": [
    "import math\n",
    "try:\n",
    "    toan= float(input(\"Nhập điểm toán: \"))\n",
    "    ly= float(input(\"Nhập điểm lý: \"))\n",
    "    hoa= float(input(\"Nhập điểm hoá: \"))\n",
    "    dtb= (toan + ly + hoa)/3\n",
    "    print(\"Điểm trung bình là: \", dtb)\n",
    "    print(\"Điểm trung bình làm tròn là: \", round(dtb,2))\n",
    "except:\n",
    "    print(\"Vui lòng nhập số!!!\")"
   ]
  },
  {
   "cell_type": "code",
   "execution_count": null,
   "id": "31e60845",
   "metadata": {},
   "outputs": [
    {
     "name": "stdout",
     "output_type": "stream",
     "text": [
      "Chương trình tính điểm trung bình\n",
      "Điểm toán=  10\n",
      "Điểm lý=  9\n",
      "Điểm hoá=  8\n",
      "Điểm trung bình=  9.0\n",
      "Điểm làm tròn=  9.0\n"
     ]
    }
   ],
   "source": [
    "# Cách 2\n",
    "print(\"Chương trình tính điểm trung bình\")\n",
    "toan,ly,hoa = eval(input(\"Nhập điểm toán, lý, hoá (cách nhau bằng dấu phẩy):\"))\n",
    "print(\"Điểm toán= \", toan)\n",
    "print(\"Điểm lý= \", ly)\n",
    "print(\"Điểm hoá= \", hoa)\n",
    "dtb= (toan+ly+hoa)/3\n",
    "print(\"Điểm trung bình= \", dtb)\n",
    "print(\"Điểm làm tròn= \", round(dtb,2))"
   ]
  }
 ],
 "metadata": {
  "kernelspec": {
   "display_name": "Python 3",
   "language": "python",
   "name": "python3"
  },
  "language_info": {
   "codemirror_mode": {
    "name": "ipython",
    "version": 3
   },
   "file_extension": ".py",
   "mimetype": "text/x-python",
   "name": "python",
   "nbconvert_exporter": "python",
   "pygments_lexer": "ipython3",
   "version": "3.13.7"
  }
 },
 "nbformat": 4,
 "nbformat_minor": 5
}
