{
 "cells": [
  {
   "cell_type": "code",
   "execution_count": 1,
   "id": "1bee7257",
   "metadata": {},
   "outputs": [
    {
     "name": "stdout",
     "output_type": "stream",
     "text": [
      "Điểm trung bình là:  5.333333333333333\n",
      "Điểm trung bình làm tròn là:  5.33\n"
     ]
    }
   ],
   "source": [
    "import math\n",
    "try:\n",
    "    toan= float(input(\"Nhập điểm toán: \"))\n",
    "    ly= float(input(\"Nhập điểm lý: \"))\n",
    "    hoa= float(input(\"Nhập điểm hoá: \"))\n",
    "    dtb= (toan + ly + hoa)/3\n",
    "    print(\"Điểm trung bình là: \", dtb)\n",
    "    print(\"Điểm trung bình làm tròn là: \", round(dtb,2))\n",
    "except:\n",
    "    print(\"Vui lòng nhập số!!!\")"
   ]
  },
  {
   "cell_type": "code",
   "execution_count": 3,
   "id": "31e60845",
   "metadata": {},
   "outputs": [
    {
     "name": "stdout",
     "output_type": "stream",
     "text": [
      "Chương trình tính điểm trung bình\n"
     ]
    },
    {
     "ename": "TypeError",
     "evalue": "cannot unpack non-iterable int object",
     "output_type": "error",
     "traceback": [
      "\u001b[31m---------------------------------------------------------------------------\u001b[39m",
      "\u001b[31mTypeError\u001b[39m                                 Traceback (most recent call last)",
      "\u001b[36mCell\u001b[39m\u001b[36m \u001b[39m\u001b[32mIn[3]\u001b[39m\u001b[32m, line 3\u001b[39m\n\u001b[32m      1\u001b[39m \u001b[38;5;66;03m# Cách 2\u001b[39;00m\n\u001b[32m      2\u001b[39m \u001b[38;5;28mprint\u001b[39m(\u001b[33m\"\u001b[39m\u001b[33mChương trình tính điểm trung bình\u001b[39m\u001b[33m\"\u001b[39m)\n\u001b[32m----> \u001b[39m\u001b[32m3\u001b[39m toan,ly,hoa = \u001b[38;5;28meval\u001b[39m(\u001b[38;5;28minput\u001b[39m(\u001b[33m\"\u001b[39m\u001b[33mNhập điểm toán, lý, hoá (cách nhau bằng dấu phẩy):\u001b[39m\u001b[33m\"\u001b[39m))\n\u001b[32m      4\u001b[39m \u001b[38;5;28mprint\u001b[39m(\u001b[33m\"\u001b[39m\u001b[33mĐiểm toán= \u001b[39m\u001b[33m\"\u001b[39m, toan)\n\u001b[32m      5\u001b[39m \u001b[38;5;28mprint\u001b[39m(\u001b[33m\"\u001b[39m\u001b[33mĐiểm lý= \u001b[39m\u001b[33m\"\u001b[39m, ly)\n",
      "\u001b[31mTypeError\u001b[39m: cannot unpack non-iterable int object"
     ]
    }
   ],
   "source": [
    "# Cách 2\n",
    "print(\"Chương trình tính điểm trung bình\")\n",
    "toan,ly,hoa = eval(input(\"Nhập điểm toán, lý, hoá (cách nhau bằng dấu phẩy):\"))\n",
    "print(\"Điểm toán= \", toan)\n",
    "print(\"Điểm lý= \", ly)\n",
    "print(\"Điểm hoá= \", hoa)\n",
    "dtb= (toan+ly+hoa)/3\n",
    "print(\"Điểm trung bình= \", dtb)\n",
    "print(\"Điểm làm tròn= \", round(dtb,2))"
   ]
  }
 ],
 "metadata": {
  "kernelspec": {
   "display_name": "Python 3",
   "language": "python",
   "name": "python3"
  },
  "language_info": {
   "codemirror_mode": {
    "name": "ipython",
    "version": 3
   },
   "file_extension": ".py",
   "mimetype": "text/x-python",
   "name": "python",
   "nbconvert_exporter": "python",
   "pygments_lexer": "ipython3",
   "version": "3.13.7"
  }
 },
 "nbformat": 4,
 "nbformat_minor": 5
}
