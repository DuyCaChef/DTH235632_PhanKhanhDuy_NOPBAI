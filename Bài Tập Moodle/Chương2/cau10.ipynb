{
 "cells": [
  {
   "cell_type": "code",
   "execution_count": 4,
   "id": "a3da6f2b",
   "metadata": {},
   "outputs": [
    {
     "name": "stdout",
     "output_type": "stream",
     "text": [
      "3\n",
      "1.5\n",
      "0.5\n",
      "4.5\n",
      "-6.5\n"
     ]
    }
   ],
   "source": [
    "x= 2\n",
    "number_of_closed_case= 3.4\n",
    "y= int(input(\"Nhập y:\"))\n",
    "ncc= float(input(\"Nhập ncc:\"))\n",
    "x+=1\n",
    "print(x)\n",
    "x/=2\n",
    "print(x)\n",
    "x-=1\n",
    "print(x)\n",
    "x+=y\n",
    "print(x)\n",
    "x-=(y+7)\n",
    "print(x)\n",
    "number_of_closed_case += 2 * ncc\n",
    "\n"
   ]
  }
 ],
 "metadata": {
  "kernelspec": {
   "display_name": "Python 3",
   "language": "python",
   "name": "python3"
  },
  "language_info": {
   "codemirror_mode": {
    "name": "ipython",
    "version": 3
   },
   "file_extension": ".py",
   "mimetype": "text/x-python",
   "name": "python",
   "nbconvert_exporter": "python",
   "pygments_lexer": "ipython3",
   "version": "3.13.7"
  }
 },
 "nbformat": 4,
 "nbformat_minor": 5
}
