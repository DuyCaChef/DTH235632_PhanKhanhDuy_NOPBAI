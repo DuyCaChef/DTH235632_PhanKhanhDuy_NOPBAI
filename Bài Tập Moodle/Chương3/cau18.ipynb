{
 "cells": [
  {
   "cell_type": "code",
   "execution_count": null,
   "id": "16e7ea27",
   "metadata": {},
   "outputs": [],
   "source": [
    "# Vẽ hình vuông bằng dấu '*'\n",
    "def draw_square(size):\n",
    "    for i in range(size):\n",
    "        for j in range(size):\n",
    "            if i == 0 or i == size - 1 or j == 0 or j == size - 1:\n",
    "                print(\"*\", end=\" \")\n",
    "            else:\n",
    "                print(\" \", end=\" \")\n",
    "        print()\n",
    "\n",
    "# Kích thước hình vuông\n",
    "size = 5\n",
    "\n",
    "# Gọi hàm để vẽ hình vuông\n",
    "draw_square(size)"
   ]
  },
  {
   "cell_type": "code",
   "execution_count": null,
   "id": "db3968f7",
   "metadata": {},
   "outputs": [],
   "source": [
    "# Vẽ hình tam giác bằng dấu '*'\n",
    "def draw_triangle(size):\n",
    "    for i in range(size):\n",
    "        for j in range(i + 1):\n",
    "            print(\"*\", end=\" \")\n",
    "        print()\n",
    "\n",
    "# Kích thước tam giác\n",
    "size = 5\n",
    "\n",
    "# Gọi hàm để vẽ hình tam giác\n",
    "draw_triangle(size)"
   ]
  },
  {
   "cell_type": "code",
   "execution_count": null,
   "id": "c792657b",
   "metadata": {},
   "outputs": [],
   "source": []
  },
  {
   "cell_type": "code",
   "execution_count": null,
   "id": "9bd92d39",
   "metadata": {},
   "outputs": [],
   "source": [
    "# Vẽ hình zigzag bằng dấu '*'\n",
    "def draw_zigzag(size):\n",
    "    for i in range(size):\n",
    "        for j in range(size):\n",
    "            if i == j or i + j == size - 1:\n",
    "                print(\"*\", end=\" \")\n",
    "            else:\n",
    "                print(\" \", end=\" \")\n",
    "        print()\n",
    "\n",
    "# Kích thước zigzag\n",
    "size = 5\n",
    "\n",
    "# Gọi hàm để vẽ hình zigzag\n",
    "draw_zigzag(size)"
   ]
  }
 ],
 "metadata": {
  "language_info": {
   "name": "python"
  }
 },
 "nbformat": 4,
 "nbformat_minor": 5
}
