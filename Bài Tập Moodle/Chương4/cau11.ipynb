{
 "cells": [
  {
   "cell_type": "code",
   "execution_count": 3,
   "id": "73e570df",
   "metadata": {},
   "outputs": [
    {
     "name": "stdout",
     "output_type": "stream",
     "text": [
      "5\n",
      "5\n",
      "0\n"
     ]
    }
   ],
   "source": [
    "def sum1(n):\n",
    "    s = 0\n",
    "    while n > 0:\n",
    "        s += 1\n",
    "        n -= 1\n",
    "    return s\n",
    "\n",
    "def sum2():\n",
    "    global val\n",
    "    s = 0\n",
    "    while val > 0:\n",
    "        s += 1\n",
    "        val -= 1\n",
    "    return s\n",
    "\n",
    "def sum3():\n",
    "    s = 0\n",
    "    for i in range(val, 0, -1):\n",
    "        s += 1\n",
    "    return s\n",
    "\n",
    "def main():\n",
    "    global val\n",
    "    val = 5\n",
    "    print(sum1(5))\n",
    "    print(sum2())\n",
    "    print(sum3())\n",
    "main()"
   ]
  },
  {
   "cell_type": "code",
   "execution_count": 5,
   "id": "b437e2d6",
   "metadata": {},
   "outputs": [
    {
     "name": "stdout",
     "output_type": "stream",
     "text": [
      "5\n",
      "5\n",
      "0\n"
     ]
    }
   ],
   "source": [
    "def sum1(n):\n",
    "    s = 0\n",
    "    while n > 0:\n",
    "        s += 1\n",
    "        n -= 1\n",
    "    return s\n",
    "\n",
    "def sum2():\n",
    "    global val\n",
    "    s = 0\n",
    "    while val > 0:\n",
    "        s += 1\n",
    "        val -= 1\n",
    "    return s\n",
    "\n",
    "def sum3():\n",
    "    s = 0\n",
    "    for i in range(val, 0, -1):\n",
    "        s += 1\n",
    "    return s\n",
    "\n",
    "def main():\n",
    "    global val\n",
    "    val = 5\n",
    "    print(sum2())\n",
    "    print(sum1(5))\n",
    "    print(sum3())\n",
    "main()"
   ]
  },
  {
   "cell_type": "code",
   "execution_count": 4,
   "id": "596e2b8a",
   "metadata": {},
   "outputs": [
    {
     "name": "stdout",
     "output_type": "stream",
     "text": [
      "5\n",
      "5\n",
      "5\n"
     ]
    }
   ],
   "source": [
    "def sum1(n):\n",
    "    s = 0\n",
    "    while n > 0:\n",
    "        s += 1\n",
    "        n -= 1\n",
    "    return s\n",
    "\n",
    "def sum2():\n",
    "    global val\n",
    "    s = 0\n",
    "    while val > 0:\n",
    "        s += 1\n",
    "        val -= 1\n",
    "    return s\n",
    "\n",
    "def sum3():\n",
    "    s = 0\n",
    "    for i in range(val, 0, -1):\n",
    "        s += 1\n",
    "    return s\n",
    "\n",
    "def main():\n",
    "    global val\n",
    "    val = 5\n",
    "    print(sum1(5))\n",
    "    print(sum3())\n",
    "    print(sum2())\n",
    "main()"
   ]
  }
 ],
 "metadata": {
  "kernelspec": {
   "display_name": "Python 3",
   "language": "python",
   "name": "python3"
  },
  "language_info": {
   "codemirror_mode": {
    "name": "ipython",
    "version": 3
   },
   "file_extension": ".py",
   "mimetype": "text/x-python",
   "name": "python",
   "nbconvert_exporter": "python",
   "pygments_lexer": "ipython3",
   "version": "3.13.7"
  }
 },
 "nbformat": 4,
 "nbformat_minor": 5
}
